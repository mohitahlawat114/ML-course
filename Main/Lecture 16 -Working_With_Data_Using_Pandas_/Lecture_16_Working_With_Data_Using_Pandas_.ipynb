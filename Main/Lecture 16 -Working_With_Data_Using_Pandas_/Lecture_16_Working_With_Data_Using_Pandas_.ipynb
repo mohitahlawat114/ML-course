{
  "nbformat": 4,
  "nbformat_minor": 0,
  "metadata": {
    "colab": {
      "provenance": [],
      "authorship_tag": "ABX9TyPOSATV9qDtyjcKFwyLQRDa",
      "include_colab_link": true
    },
    "kernelspec": {
      "name": "python3",
      "display_name": "Python 3"
    },
    "language_info": {
      "name": "python"
    }
  },
  "cells": [
    {
      "cell_type": "markdown",
      "metadata": {
        "id": "view-in-github",
        "colab_type": "text"
      },
      "source": [
        "<a href=\"https://colab.research.google.com/github/DhruvThakral/Python-Data-Science-Machine-Learning-Course/blob/main/Lecture_16_Working_With_Data_Using_Pandas_.ipynb\" target=\"_parent\"><img src=\"https://colab.research.google.com/assets/colab-badge.svg\" alt=\"Open In Colab\"/></a>"
      ]
    },
    {
      "cell_type": "markdown",
      "source": [
        "# **Working with Data using Pandas**\n",
        "\n",
        "**Definition:** Pandas is a powerful and flexible open-source data analysis and manipulation library for Python provides data structures like Series (one-dimensional) and DataFrame (two-dimensional) that are efficient f handling large datasets. Pandas allows for data manipulation, aggregation, and merging.\n",
        "\n",
        "**Use Case in Real Life:** Pandas can be used in various data analysis scenarios, such as customer data analysis, financial data analysis, and marketing campaign analysis."
      ],
      "metadata": {
        "id": "dCFwm9hrUby4"
      }
    },
    {
      "cell_type": "markdown",
      "source": [
        "# **Creating a DataFrame from a Dictionary**"
      ],
      "metadata": {
        "id": "TE4WRrQsVbp6"
      }
    },
    {
      "cell_type": "code",
      "execution_count": 26,
      "metadata": {
        "colab": {
          "base_uri": "https://localhost:8080/"
        },
        "id": "EfTDRXwEUarp",
        "outputId": "d1040200-b83c-4860-d21c-009add9ece6f"
      },
      "outputs": [
        {
          "output_type": "stream",
          "name": "stdout",
          "text": [
            "      Name  Age      City\n",
            "0    Alice   25  New York\n",
            "1      Bob   30    London\n",
            "2  Charlie   35     Paris\n"
          ]
        }
      ],
      "source": [
        "import pandas as pd\n",
        "data = {'Name' : ['Alice','Bob','Charlie'],\n",
        "        'Age' : [25,30,35],\n",
        "        'City' : ['New York','London','Paris']}\n",
        "\n",
        "df = pd.DataFrame(data)\n",
        "print(df)"
      ]
    },
    {
      "cell_type": "markdown",
      "source": [
        "# **Creating a DataFrame from a List of Dictionary**"
      ],
      "metadata": {
        "id": "e6GDAVEKXlE7"
      }
    },
    {
      "cell_type": "code",
      "source": [
        "data = [{'Name':'Alice' , 'Age':25, 'City':'New York'},\n",
        "        {'Name':'Bob' , 'Age':30 , 'City':'London'},\n",
        "        {'Name':'Charlie' , 'Age':35, 'City':'Paris'}]\n",
        "\n",
        "df = pd.DataFrame(data)\n",
        "print(df)\n"
      ],
      "metadata": {
        "colab": {
          "base_uri": "https://localhost:8080/"
        },
        "id": "7Yd_jnIyXFcs",
        "outputId": "2d925a91-c689-47a3-dc6f-d8f7d9490203"
      },
      "execution_count": 27,
      "outputs": [
        {
          "output_type": "stream",
          "name": "stdout",
          "text": [
            "      Name  Age      City\n",
            "0    Alice   25  New York\n",
            "1      Bob   30    London\n",
            "2  Charlie   35     Paris\n"
          ]
        }
      ]
    },
    {
      "cell_type": "code",
      "source": [
        "#Reading data from a CSV file\n",
        "df = pd.read_csv('dataset.csv')\n",
        "print(df)"
      ],
      "metadata": {
        "colab": {
          "base_uri": "https://localhost:8080/"
        },
        "id": "JFrvyYVOYVtQ",
        "outputId": "17fca643-cf31-420a-bd5b-1438dcec54f9"
      },
      "execution_count": 28,
      "outputs": [
        {
          "output_type": "stream",
          "name": "stdout",
          "text": [
            "      Name  Age           City\n",
            "0    Alice   25       New York\n",
            "1      Bob   30    Los Angeles\n",
            "2  Charlie   35        Chicago\n",
            "3    David   40        Houston\n",
            "4      Eve   28  San Francisco\n"
          ]
        }
      ]
    },
    {
      "cell_type": "markdown",
      "source": [
        "# **Viewing Data**"
      ],
      "metadata": {
        "id": "lyW8BLa9aoWu"
      }
    },
    {
      "cell_type": "code",
      "source": [
        "#Displaying the first few rows\n",
        "print(df.head())  #Give by default the first 5 rows , if want extra provide it in the inner bracket like df.head(10) for first 10 rows"
      ],
      "metadata": {
        "colab": {
          "base_uri": "https://localhost:8080/"
        },
        "id": "PN_RatKZZvvV",
        "outputId": "3c51fff1-6a40-4011-dcd1-c7c0b02834cb"
      },
      "execution_count": 29,
      "outputs": [
        {
          "output_type": "stream",
          "name": "stdout",
          "text": [
            "      Name  Age           City\n",
            "0    Alice   25       New York\n",
            "1      Bob   30    Los Angeles\n",
            "2  Charlie   35        Chicago\n",
            "3    David   40        Houston\n",
            "4      Eve   28  San Francisco\n"
          ]
        }
      ]
    },
    {
      "cell_type": "code",
      "source": [
        "#Displaying the last few rows (by default last 5 rows)\n",
        "print(df.tail())"
      ],
      "metadata": {
        "colab": {
          "base_uri": "https://localhost:8080/"
        },
        "id": "8HmVua2nbHuc",
        "outputId": "56636360-cf43-4766-b218-dcfb50b1b862"
      },
      "execution_count": 30,
      "outputs": [
        {
          "output_type": "stream",
          "name": "stdout",
          "text": [
            "      Name  Age           City\n",
            "0    Alice   25       New York\n",
            "1      Bob   30    Los Angeles\n",
            "2  Charlie   35        Chicago\n",
            "3    David   40        Houston\n",
            "4      Eve   28  San Francisco\n"
          ]
        }
      ]
    },
    {
      "cell_type": "code",
      "source": [
        "#Displaying the info\n",
        "print(df.info())"
      ],
      "metadata": {
        "colab": {
          "base_uri": "https://localhost:8080/"
        },
        "id": "-b0qOvLZbnM5",
        "outputId": "d498499e-7a81-4d6b-d9d4-208d4d59bf51"
      },
      "execution_count": 31,
      "outputs": [
        {
          "output_type": "stream",
          "name": "stdout",
          "text": [
            "<class 'pandas.core.frame.DataFrame'>\n",
            "RangeIndex: 5 entries, 0 to 4\n",
            "Data columns (total 3 columns):\n",
            " #   Column  Non-Null Count  Dtype \n",
            "---  ------  --------------  ----- \n",
            " 0   Name    5 non-null      object\n",
            " 1   Age     5 non-null      int64 \n",
            " 2   City    5 non-null      object\n",
            "dtypes: int64(1), object(2)\n",
            "memory usage: 248.0+ bytes\n",
            "None\n"
          ]
        }
      ]
    },
    {
      "cell_type": "code",
      "source": [
        "#Descriptive statistics\n",
        "print(df.describe())"
      ],
      "metadata": {
        "colab": {
          "base_uri": "https://localhost:8080/"
        },
        "id": "cyqkWy40cGRH",
        "outputId": "287e70e4-ca19-4bcc-e8bb-bdaae199b690"
      },
      "execution_count": 32,
      "outputs": [
        {
          "output_type": "stream",
          "name": "stdout",
          "text": [
            "            Age\n",
            "count   5.00000\n",
            "mean   31.60000\n",
            "std     5.94138\n",
            "min    25.00000\n",
            "25%    28.00000\n",
            "50%    30.00000\n",
            "75%    35.00000\n",
            "max    40.00000\n"
          ]
        }
      ]
    },
    {
      "cell_type": "code",
      "source": [
        "#Selecting the single column\n",
        "print(df[['Name']])"
      ],
      "metadata": {
        "colab": {
          "base_uri": "https://localhost:8080/"
        },
        "id": "dXF-gDW-cOSz",
        "outputId": "f6afa713-9698-4355-a606-1cfd9b2f0c77"
      },
      "execution_count": 33,
      "outputs": [
        {
          "output_type": "stream",
          "name": "stdout",
          "text": [
            "      Name\n",
            "0    Alice\n",
            "1      Bob\n",
            "2  Charlie\n",
            "3    David\n",
            "4      Eve\n"
          ]
        }
      ]
    },
    {
      "cell_type": "code",
      "source": [
        "#Selecting the multiple columns\n",
        "print(df[['Name','Age']])"
      ],
      "metadata": {
        "colab": {
          "base_uri": "https://localhost:8080/"
        },
        "id": "3VaCVwwTcwyz",
        "outputId": "48346982-0271-42f6-fcb2-71da57bbc135"
      },
      "execution_count": 34,
      "outputs": [
        {
          "output_type": "stream",
          "name": "stdout",
          "text": [
            "      Name  Age\n",
            "0    Alice   25\n",
            "1      Bob   30\n",
            "2  Charlie   35\n",
            "3    David   40\n",
            "4      Eve   28\n"
          ]
        }
      ]
    },
    {
      "cell_type": "markdown",
      "source": [
        "# **Filtering Rows**"
      ],
      "metadata": {
        "id": "xrjCnJXydXH-"
      }
    },
    {
      "cell_type": "code",
      "source": [
        "#Filtering rows based on a condition\n",
        "print(df[df['Age']>30])"
      ],
      "metadata": {
        "colab": {
          "base_uri": "https://localhost:8080/"
        },
        "id": "8MIEmDzqc9LZ",
        "outputId": "e6195997-933d-4ab3-f6b4-1df1d0eef024"
      },
      "execution_count": 35,
      "outputs": [
        {
          "output_type": "stream",
          "name": "stdout",
          "text": [
            "      Name  Age     City\n",
            "2  Charlie   35  Chicago\n",
            "3    David   40  Houston\n"
          ]
        }
      ]
    },
    {
      "cell_type": "code",
      "source": [
        "#Adding a new Column\n",
        "df['Salary'] = [50000,60000,70000,80000,90000]\n",
        "print(df)"
      ],
      "metadata": {
        "colab": {
          "base_uri": "https://localhost:8080/"
        },
        "id": "YtJoZ6xQdilI",
        "outputId": "dd725a16-c02f-417e-d940-41f4bb4a3e45"
      },
      "execution_count": 36,
      "outputs": [
        {
          "output_type": "stream",
          "name": "stdout",
          "text": [
            "      Name  Age           City  Salary\n",
            "0    Alice   25       New York   50000\n",
            "1      Bob   30    Los Angeles   60000\n",
            "2  Charlie   35        Chicago   70000\n",
            "3    David   40        Houston   80000\n",
            "4      Eve   28  San Francisco   90000\n"
          ]
        }
      ]
    },
    {
      "cell_type": "code",
      "source": [
        "#Modifying an existing column\n",
        "df['Age'] = df['Age'] + 1\n",
        "print(df)"
      ],
      "metadata": {
        "colab": {
          "base_uri": "https://localhost:8080/"
        },
        "id": "O03rdfjyd1Cq",
        "outputId": "fdd52f7c-f96f-4050-de88-bcad28a1ebc1"
      },
      "execution_count": 37,
      "outputs": [
        {
          "output_type": "stream",
          "name": "stdout",
          "text": [
            "      Name  Age           City  Salary\n",
            "0    Alice   26       New York   50000\n",
            "1      Bob   31    Los Angeles   60000\n",
            "2  Charlie   36        Chicago   70000\n",
            "3    David   41        Houston   80000\n",
            "4      Eve   29  San Francisco   90000\n"
          ]
        }
      ]
    },
    {
      "cell_type": "code",
      "source": [
        "#Droping a column\n",
        "df = df.drop(columns=['Salary'])\n",
        "print(df)"
      ],
      "metadata": {
        "colab": {
          "base_uri": "https://localhost:8080/"
        },
        "id": "pIDF7YIDeNHe",
        "outputId": "ef1a6ed8-3511-4efc-e7cc-ecc49dd96a61"
      },
      "execution_count": 38,
      "outputs": [
        {
          "output_type": "stream",
          "name": "stdout",
          "text": [
            "      Name  Age           City\n",
            "0    Alice   26       New York\n",
            "1      Bob   31    Los Angeles\n",
            "2  Charlie   36        Chicago\n",
            "3    David   41        Houston\n",
            "4      Eve   29  San Francisco\n"
          ]
        }
      ]
    },
    {
      "cell_type": "code",
      "source": [
        "#Droping a row\n",
        "df = df.drop(index=1)\n",
        "print(df)"
      ],
      "metadata": {
        "colab": {
          "base_uri": "https://localhost:8080/"
        },
        "id": "wPW_DTh6egJg",
        "outputId": "52752fd5-5865-48b6-9eeb-f8fe38ba4411"
      },
      "execution_count": 39,
      "outputs": [
        {
          "output_type": "stream",
          "name": "stdout",
          "text": [
            "      Name  Age           City\n",
            "0    Alice   26       New York\n",
            "2  Charlie   36        Chicago\n",
            "3    David   41        Houston\n",
            "4      Eve   29  San Francisco\n"
          ]
        }
      ]
    },
    {
      "cell_type": "code",
      "source": [
        "#Grouping data by a column\n",
        "grouped = df.groupby('City')\n",
        "\n",
        "print(grouped['Age'].mean())"
      ],
      "metadata": {
        "colab": {
          "base_uri": "https://localhost:8080/"
        },
        "id": "6qroBLADenfl",
        "outputId": "49bc5822-012b-4b02-d2e0-e2168b8537c2"
      },
      "execution_count": 40,
      "outputs": [
        {
          "output_type": "stream",
          "name": "stdout",
          "text": [
            "City\n",
            "Chicago          36.0\n",
            "Houston          41.0\n",
            "New York         26.0\n",
            "San Francisco    29.0\n",
            "Name: Age, dtype: float64\n"
          ]
        }
      ]
    },
    {
      "cell_type": "code",
      "source": [
        "#Aggregating data using multiple functions\n",
        "aggregated = df.groupby('City').agg({'Age':['mean','min','max']})\n",
        "print(aggregated)"
      ],
      "metadata": {
        "colab": {
          "base_uri": "https://localhost:8080/"
        },
        "id": "JjLAq316fR57",
        "outputId": "dad88afe-0318-4b83-fe3b-5216969bffec"
      },
      "execution_count": 41,
      "outputs": [
        {
          "output_type": "stream",
          "name": "stdout",
          "text": [
            "                Age        \n",
            "               mean min max\n",
            "City                       \n",
            "Chicago        36.0  36  36\n",
            "Houston        41.0  41  41\n",
            "New York       26.0  26  26\n",
            "San Francisco  29.0  29  29\n"
          ]
        }
      ]
    },
    {
      "cell_type": "markdown",
      "source": [
        "# **Merging the DataFrame**"
      ],
      "metadata": {
        "id": "Np62jGOJgMlh"
      }
    },
    {
      "cell_type": "code",
      "source": [
        "df1 = pd.DataFrame({'ID':[1,2,3] , 'Name' : ['Alice','Bob','Charlie']})\n",
        "df2 = pd.DataFrame({'ID':[1,2,4] , 'Salary' : [50000,60000,70000]})\n",
        "\n",
        "#Merging data frames on a common column\n",
        "merged_df = pd.merge(df1,df2,on='ID',how='inner')\n",
        "print(merged_df)"
      ],
      "metadata": {
        "colab": {
          "base_uri": "https://localhost:8080/"
        },
        "id": "d_X7f6F2gAIx",
        "outputId": "9e237116-266a-4b3c-d2fd-bfc29ff82d53"
      },
      "execution_count": 42,
      "outputs": [
        {
          "output_type": "stream",
          "name": "stdout",
          "text": [
            "   ID   Name  Salary\n",
            "0   1  Alice   50000\n",
            "1   2    Bob   60000\n"
          ]
        }
      ]
    },
    {
      "cell_type": "code",
      "source": [
        "print(df1)"
      ],
      "metadata": {
        "colab": {
          "base_uri": "https://localhost:8080/"
        },
        "id": "yZtsY21whKU9",
        "outputId": "b61544e7-17c7-4d74-ec6b-9a6551c27e29"
      },
      "execution_count": 43,
      "outputs": [
        {
          "output_type": "stream",
          "name": "stdout",
          "text": [
            "   ID     Name\n",
            "0   1    Alice\n",
            "1   2      Bob\n",
            "2   3  Charlie\n"
          ]
        }
      ]
    },
    {
      "cell_type": "code",
      "source": [
        "print(df2)"
      ],
      "metadata": {
        "colab": {
          "base_uri": "https://localhost:8080/"
        },
        "id": "UwdByWsBhn_H",
        "outputId": "88611d88-0943-4017-b529-c5b75434523b"
      },
      "execution_count": 44,
      "outputs": [
        {
          "output_type": "stream",
          "name": "stdout",
          "text": [
            "   ID  Salary\n",
            "0   1   50000\n",
            "1   2   60000\n",
            "2   4   70000\n"
          ]
        }
      ]
    },
    {
      "cell_type": "code",
      "source": [
        "# With outer => This will give all the things and whch are missing shown them by NaN\n",
        "merged_df = pd.merge(df1,df2,on='ID',how='outer')\n",
        "print(merged_df)"
      ],
      "metadata": {
        "colab": {
          "base_uri": "https://localhost:8080/"
        },
        "id": "P9uZNNwNhpEk",
        "outputId": "054dbab8-0055-4ba3-eb3d-655a4b8eec5d"
      },
      "execution_count": 45,
      "outputs": [
        {
          "output_type": "stream",
          "name": "stdout",
          "text": [
            "   ID     Name   Salary\n",
            "0   1    Alice  50000.0\n",
            "1   2      Bob  60000.0\n",
            "2   3  Charlie      NaN\n",
            "3   4      NaN  70000.0\n"
          ]
        }
      ]
    },
    {
      "cell_type": "markdown",
      "source": [
        "# **Joining the DataFrame**"
      ],
      "metadata": {
        "id": "8-v29xA3h8cT"
      }
    },
    {
      "cell_type": "code",
      "source": [
        "df1 = pd.DataFrame({'Name' : ['Alice','Bob'], 'Age' : [25,30]} , index = [0,1])\n",
        "df2 = pd.DataFrame({'City':['New York','Los Angles']},index = [0,2])\n",
        "\n",
        "#Joining data frames on their index\n",
        "joined_df = df1.join(df2,how='left')\n",
        "print(joined_df)"
      ],
      "metadata": {
        "colab": {
          "base_uri": "https://localhost:8080/"
        },
        "id": "XhGSDaxvhtQd",
        "outputId": "233c4476-7e24-42ba-a6e0-18b7b94489de"
      },
      "execution_count": 46,
      "outputs": [
        {
          "output_type": "stream",
          "name": "stdout",
          "text": [
            "    Name  Age      City\n",
            "0  Alice   25  New York\n",
            "1    Bob   30       NaN\n"
          ]
        }
      ]
    }
  ]
}